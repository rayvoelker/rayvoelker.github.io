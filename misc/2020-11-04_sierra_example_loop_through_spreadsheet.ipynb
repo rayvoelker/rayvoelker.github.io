{
 "cells": [
  {
   "cell_type": "code",
   "execution_count": 1,
   "metadata": {},
   "outputs": [],
   "source": [
    "import pandas as pd\n",
    "import numpy as np\n",
    "from sqlalchemy import create_engine\n",
    "\n",
    "# client_key, client_secret, sierra_username, sierra_password\n",
    "import patron_batch_upload_vars as vars\n",
    "\n",
    "connection_uri = 'postgres://{}:{}@sierra-db.plch.net:1032/iii'.format(vars.sierra_username, vars.sierra_password)\n",
    "\n",
    "# use sqlalchemy to create our database connection\n",
    "engine = create_engine(connection_uri)"
   ]
  },
  {
   "cell_type": "code",
   "execution_count": 2,
   "metadata": {},
   "outputs": [
    {
     "data": {
      "text/plain": [
       "(1000, 6)"
      ]
     },
     "execution_count": 2,
     "metadata": {},
     "output_type": "execute_result"
    }
   ],
   "source": [
    "# grab some patron data to create a test spreadsheet ...\n",
    "sql = '''\n",
    "SELECT\n",
    "r.record_num as patron_record_num,\n",
    "r.id as patron_record_id,\n",
    "p.birth_date_gmt, \n",
    "n.first_name,\n",
    "n.middle_name,\n",
    "n.last_name\n",
    "\n",
    "FROM\n",
    "sierra_view.record_metadata as r\n",
    "\n",
    "JOIN\n",
    "sierra_view.patron_record as p\n",
    "ON\n",
    "  p.record_id = r.id\n",
    "\n",
    "JOIN\n",
    "sierra_view.patron_record_fullname as n\n",
    "ON\n",
    "  n.patron_record_id = p.record_id\n",
    "\n",
    "WHERE\n",
    "r.record_type_code = 'p'\n",
    "AND r.campus_code = ''\n",
    "AND p.birth_date_gmt IS NOT NULL\n",
    "\n",
    "limit 1000\n",
    "\n",
    "'''\n",
    "\n",
    "df = pd.read_sql(sql=sql, con=engine)\n",
    "\n",
    "df.shape"
   ]
  },
  {
   "cell_type": "code",
   "execution_count": 3,
   "metadata": {},
   "outputs": [],
   "source": [
    "# save the dataframe to an excel spreadsheet ...\n",
    "df.to_excel('test_output.xlsx', index=False)"
   ]
  },
  {
   "cell_type": "code",
   "execution_count": 4,
   "metadata": {},
   "outputs": [
    {
     "data": {
      "text/plain": [
       "(1000, 6)"
      ]
     },
     "execution_count": 4,
     "metadata": {},
     "output_type": "execute_result"
    }
   ],
   "source": [
    "# clear the dataframe, and reload it from the test excel sheet\n",
    "df = None\n",
    "\n",
    "df = pd.read_excel('test_output.xlsx')\n",
    "df.shape"
   ]
  },
  {
   "cell_type": "code",
   "execution_count": 5,
   "metadata": {},
   "outputs": [
    {
     "name": "stdout",
     "output_type": "stream",
     "text": [
      "count: 0\n",
      "possible matching patron records: ('2434265, 1427238',)\n",
      "----\n",
      "count: 1\n",
      "possible matching patron records: ('1277517, 1260612, 1436396, 2161540',)\n",
      "----\n",
      "count: 2\n",
      "possible matching patron records: ('1956183',)\n",
      "----\n",
      "count: 3\n",
      "possible matching patron records: ('2445807',)\n",
      "----\n",
      "count: 4\n",
      "possible matching patron records: ('2436702',)\n",
      "----\n",
      "count: 5\n",
      "possible matching patron records: ('1951979',)\n",
      "----\n",
      "count: 6\n",
      "possible matching patron records: ('2139969',)\n",
      "----\n",
      "count: 7\n",
      "possible matching patron records: ('2309517, 2433173, 2433189, 2433202, 2433226, 2433243, 2433181, 2433178, 2433180, 2433188, 2433174, 2433172, 2433177, 2433193, 2433183, 2433194, 24332 ... (384 characters truncated) ... 33191, 2433241, 2433246, 2433190, 2433199, 2433209, 2433220, 2433196, 2433216, 2433217, 2433239, 2433245, 2433213, 2433221, 2433222, 2433232, 2433236',)\n",
      "----\n",
      "count: 8\n",
      "possible matching patron records: ('1820953, 2092901, 1401214',)\n",
      "----\n",
      "count: 9\n",
      "possible matching patron records: ('1940405',)\n",
      "----\n",
      "count: 10\n",
      "possible matching patron records: ('2161708',)\n",
      "----\n"
     ]
    }
   ],
   "source": [
    "# this is the sql we're going to iterate on ...\n",
    "sql = '''\n",
    "SELECT\n",
    "string_agg(r.record_num::TEXT, ', ') as patron_record_nums\n",
    "\n",
    "FROM\n",
    "sierra_view.patron_record_fullname as n\n",
    "\n",
    "JOIN\n",
    "sierra_view.patron_record as p\n",
    "ON\n",
    "  p.record_id = n.patron_record_id\n",
    "\n",
    "JOIN\n",
    "sierra_view.record_metadata as r\n",
    "ON\n",
    "  r.id = n.patron_record_id\n",
    "\n",
    "\n",
    "WHERE\n",
    "n.last_name = %s\n",
    "AND n.first_name = %s\n",
    "'''\n",
    "\n",
    "with engine.connect() as con:\n",
    "    for i, row in df.iterrows():\n",
    "        \n",
    "        print('count: {}'.format(i,), end='\\n')\n",
    "        \n",
    "        # run the query, get the row (result) ... \n",
    "        result = con.execute(sql, [ row['last_name'], row['first_name'] ]).fetchone()\n",
    "        # -- do something with the results ...\n",
    "        print('possible matching patron records: {}'.format(result), end='\\n----\\n')\n",
    "        \n",
    "        # maybe just run the first 10 as a test ...\n",
    "        if (i >= 10):\n",
    "            break"
   ]
  }
 ],
 "metadata": {
  "kernelspec": {
   "display_name": "Python 3",
   "language": "python",
   "name": "python3"
  },
  "language_info": {
   "codemirror_mode": {
    "name": "ipython",
    "version": 3
   },
   "file_extension": ".py",
   "mimetype": "text/x-python",
   "name": "python",
   "nbconvert_exporter": "python",
   "pygments_lexer": "ipython3",
   "version": "3.8.5"
  }
 },
 "nbformat": 4,
 "nbformat_minor": 4
}
