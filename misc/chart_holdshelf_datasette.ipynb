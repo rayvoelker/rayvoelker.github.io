{
  "nbformat": 4,
  "nbformat_minor": 0,
  "metadata": {
    "colab": {
      "name": "Untitled2.ipynb",
      "provenance": [],
      "collapsed_sections": []
    },
    "kernelspec": {
      "display_name": "Python 3",
      "name": "python3"
    },
    "language_info": {
      "name": "python"
    }
  },
  "cells": [
    {
      "cell_type": "code",
      "metadata": {
        "id": "2w7ucHKfd--B"
      },
      "source": [
        "import pandas as pd\n",
        "import altair as alt\n",
        "from urllib.parse import urlencode\n",
        "\n",
        "# this is the base url for our Datasette instance \n",
        "db_url = 'https://ilsweb.cincinnatilibrary.org/collection-analysis/current_collection'"
      ],
      "execution_count": null,
      "outputs": []
    },
    {
      "cell_type": "code",
      "metadata": {
        "id": "Kje4NgQlh1A3"
      },
      "source": [
        "# set the search month for the current month ...\n",
        "start_date = pd.Timestamp('now').strftime('%Y-%m')\n",
        "\n",
        "# read the query into a dataframe \n",
        "df = pd.read_csv(\n",
        "    db_url + '/holds_ready_for_pickup_by_month' + '.csv?' + urlencode(query={'start_date': start_date})\n",
        ")\n",
        "\n",
        "# display the dataframe\n",
        "df"
      ],
      "execution_count": null,
      "outputs": []
    },
    {
      "cell_type": "code",
      "metadata": {
        "id": "qkArLmDupdOQ"
      },
      "source": [
        "alt.Chart(df).mark_bar().encode(\n",
        "    x=alt.X('count_items'),\n",
        "    y=alt.Y('pickup_location', sort='-x'),\n",
        "    tooltip=['month', 'pickup_location', 'avg_days_to_holdshelf', 'count_items', 'count_distinct_patrons', 'avg_items_per_patron'],\n",
        ").configure_mark(\n",
        "    color='#0092BD'\n",
        ").properties(\n",
        "    title=f'Items On Hold Shelf By Month - {start_date}'\n",
        ").configure_title(\n",
        "    fontSize=14,\n",
        ")"
      ],
      "execution_count": null,
      "outputs": []
    },
    {
      "cell_type": "code",
      "metadata": {
        "id": "YHoC1KGCtHET"
      },
      "source": [
        "alt.Chart(df).mark_bar().encode(\n",
        "    x=alt.X('count_distinct_patrons'),\n",
        "    y=alt.Y('pickup_location', sort='-x'),\n",
        "    tooltip=['month', 'pickup_location', 'avg_days_to_holdshelf', 'count_items', 'count_distinct_patrons', 'avg_items_per_patron'],\n",
        ").configure_mark(\n",
        "    color='#34B78F'\n",
        ").properties(\n",
        "    title=f'Patrons Served By Hold Shelf at Branch By Month - {start_date}'\n",
        ").configure_title(\n",
        "    fontSize=14,\n",
        ")"
      ],
      "execution_count": null,
      "outputs": []
    }
  ]
}