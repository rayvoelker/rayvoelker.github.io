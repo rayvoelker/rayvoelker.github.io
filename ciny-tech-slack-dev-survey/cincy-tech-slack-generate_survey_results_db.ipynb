{
 "cells": [
  {
   "cell_type": "code",
   "execution_count": 1,
   "id": "794a0d3e-35dd-4555-be0d-e34380cef560",
   "metadata": {},
   "outputs": [
    {
     "name": "stdout",
     "output_type": "stream",
     "text": [
      "Requirement already satisfied: pandas in ./venv/lib/python3.9/site-packages (1.3.0)\n",
      "Requirement already satisfied: python-dateutil>=2.7.3 in ./venv/lib/python3.9/site-packages (from pandas) (2.8.2)\n",
      "Requirement already satisfied: pytz>=2017.3 in ./venv/lib/python3.9/site-packages (from pandas) (2021.1)\n",
      "Requirement already satisfied: numpy>=1.17.3 in ./venv/lib/python3.9/site-packages (from pandas) (1.21.0)\n",
      "Requirement already satisfied: six>=1.5 in ./venv/lib/python3.9/site-packages (from python-dateutil>=2.7.3->pandas) (1.16.0)\n",
      "Requirement already satisfied: altair in ./venv/lib/python3.9/site-packages (4.1.0)\n",
      "Requirement already satisfied: pandas>=0.18 in ./venv/lib/python3.9/site-packages (from altair) (1.3.0)\n",
      "Requirement already satisfied: jinja2 in ./venv/lib/python3.9/site-packages (from altair) (3.0.1)\n",
      "Requirement already satisfied: toolz in ./venv/lib/python3.9/site-packages (from altair) (0.11.1)\n",
      "Requirement already satisfied: jsonschema in ./venv/lib/python3.9/site-packages (from altair) (3.2.0)\n",
      "Requirement already satisfied: entrypoints in ./venv/lib/python3.9/site-packages (from altair) (0.3)\n",
      "Requirement already satisfied: numpy in ./venv/lib/python3.9/site-packages (from altair) (1.21.0)\n",
      "Requirement already satisfied: pytz>=2017.3 in ./venv/lib/python3.9/site-packages (from pandas>=0.18->altair) (2021.1)\n",
      "Requirement already satisfied: python-dateutil>=2.7.3 in ./venv/lib/python3.9/site-packages (from pandas>=0.18->altair) (2.8.2)\n",
      "Requirement already satisfied: six>=1.5 in ./venv/lib/python3.9/site-packages (from python-dateutil>=2.7.3->pandas>=0.18->altair) (1.16.0)\n",
      "Requirement already satisfied: MarkupSafe>=2.0 in ./venv/lib/python3.9/site-packages (from jinja2->altair) (2.0.1)\n",
      "Requirement already satisfied: attrs>=17.4.0 in ./venv/lib/python3.9/site-packages (from jsonschema->altair) (21.2.0)\n",
      "Requirement already satisfied: pyrsistent>=0.14.0 in ./venv/lib/python3.9/site-packages (from jsonschema->altair) (0.18.0)\n",
      "Requirement already satisfied: setuptools in ./venv/lib/python3.9/site-packages (from jsonschema->altair) (44.1.1)\n",
      "Requirement already satisfied: datasette in ./venv/lib/python3.9/site-packages (0.58.1)\n",
      "Requirement already satisfied: httpx>=0.17 in ./venv/lib/python3.9/site-packages (from datasette) (0.18.2)\n",
      "Requirement already satisfied: aiofiles<0.8,>=0.4 in ./venv/lib/python3.9/site-packages (from datasette) (0.7.0)\n",
      "Requirement already satisfied: janus<0.7,>=0.4 in ./venv/lib/python3.9/site-packages (from datasette) (0.6.1)\n",
      "Requirement already satisfied: itsdangerous<3.0,>=1.1 in ./venv/lib/python3.9/site-packages (from datasette) (2.0.1)\n",
      "Requirement already satisfied: pluggy~=0.13.0 in ./venv/lib/python3.9/site-packages (from datasette) (0.13.1)\n",
      "Requirement already satisfied: click<8.1.0,>=7.1.1 in ./venv/lib/python3.9/site-packages (from datasette) (8.0.1)\n",
      "Requirement already satisfied: Jinja2<3.1.0,>=2.10.3 in ./venv/lib/python3.9/site-packages (from datasette) (3.0.1)\n",
      "Requirement already satisfied: uvicorn~=0.11 in ./venv/lib/python3.9/site-packages (from datasette) (0.14.0)\n",
      "Requirement already satisfied: asgi-csrf>=0.9 in ./venv/lib/python3.9/site-packages (from datasette) (0.9)\n",
      "Requirement already satisfied: python-baseconv==1.2.2 in ./venv/lib/python3.9/site-packages (from datasette) (1.2.2)\n",
      "Requirement already satisfied: mergedeep<1.4.0,>=1.1.1 in ./venv/lib/python3.9/site-packages (from datasette) (1.3.4)\n",
      "Requirement already satisfied: pint~=0.9 in ./venv/lib/python3.9/site-packages (from datasette) (0.17)\n",
      "Requirement already satisfied: PyYAML~=5.3 in ./venv/lib/python3.9/site-packages (from datasette) (5.4.1)\n",
      "Requirement already satisfied: click-default-group~=1.2.2 in ./venv/lib/python3.9/site-packages (from datasette) (1.2.2)\n",
      "Requirement already satisfied: hupper~=1.9 in ./venv/lib/python3.9/site-packages (from datasette) (1.10.3)\n",
      "Requirement already satisfied: asgiref<3.5.0,>=3.2.10 in ./venv/lib/python3.9/site-packages (from datasette) (3.4.1)\n",
      "Requirement already satisfied: python-multipart in ./venv/lib/python3.9/site-packages (from asgi-csrf>=0.9->datasette) (0.0.5)\n",
      "Requirement already satisfied: sniffio in ./venv/lib/python3.9/site-packages (from httpx>=0.17->datasette) (1.2.0)\n",
      "Requirement already satisfied: rfc3986[idna2008]<2,>=1.3 in ./venv/lib/python3.9/site-packages (from httpx>=0.17->datasette) (1.5.0)\n",
      "Requirement already satisfied: certifi in ./venv/lib/python3.9/site-packages (from httpx>=0.17->datasette) (2021.5.30)\n",
      "Requirement already satisfied: httpcore<0.14.0,>=0.13.3 in ./venv/lib/python3.9/site-packages (from httpx>=0.17->datasette) (0.13.6)\n",
      "Requirement already satisfied: h11<0.13,>=0.11 in ./venv/lib/python3.9/site-packages (from httpcore<0.14.0,>=0.13.3->httpx>=0.17->datasette) (0.12.0)\n",
      "Requirement already satisfied: anyio==3.* in ./venv/lib/python3.9/site-packages (from httpcore<0.14.0,>=0.13.3->httpx>=0.17->datasette) (3.2.1)\n",
      "Requirement already satisfied: idna>=2.8 in ./venv/lib/python3.9/site-packages (from anyio==3.*->httpcore<0.14.0,>=0.13.3->httpx>=0.17->datasette) (3.2)\n",
      "Requirement already satisfied: MarkupSafe>=2.0 in ./venv/lib/python3.9/site-packages (from Jinja2<3.1.0,>=2.10.3->datasette) (2.0.1)\n",
      "Requirement already satisfied: packaging in ./venv/lib/python3.9/site-packages (from pint~=0.9->datasette) (21.0)\n",
      "Requirement already satisfied: pyparsing>=2.0.2 in ./venv/lib/python3.9/site-packages (from packaging->pint~=0.9->datasette) (2.4.7)\n",
      "Requirement already satisfied: six>=1.4.0 in ./venv/lib/python3.9/site-packages (from python-multipart->asgi-csrf>=0.9->datasette) (1.16.0)\n",
      "Requirement already satisfied: sqlite-utils in ./venv/lib/python3.9/site-packages (3.12)\n",
      "Requirement already satisfied: click-default-group in ./venv/lib/python3.9/site-packages (from sqlite-utils) (1.2.2)\n",
      "Requirement already satisfied: sqlite-fts4 in ./venv/lib/python3.9/site-packages (from sqlite-utils) (1.0.1)\n",
      "Requirement already satisfied: tabulate in ./venv/lib/python3.9/site-packages (from sqlite-utils) (0.8.9)\n",
      "Requirement already satisfied: click in ./venv/lib/python3.9/site-packages (from sqlite-utils) (8.0.1)\n",
      "Requirement already satisfied: sqlalchemy in ./venv/lib/python3.9/site-packages (1.4.22)\n",
      "Requirement already satisfied: greenlet!=0.4.17 in ./venv/lib/python3.9/site-packages (from sqlalchemy) (1.1.0)\n"
     ]
    }
   ],
   "source": [
    "!pip install -U pandas\n",
    "!pip install -U altair\n",
    "!pip install -U datasette\n",
    "!pip install -U sqlite-utils\n",
    "!pip install -U sqlalchemy"
   ]
  },
  {
   "cell_type": "code",
   "execution_count": 2,
   "id": "9d2790ee-4089-4052-b4d7-7d12126bdc26",
   "metadata": {},
   "outputs": [],
   "source": [
    "import pandas as pd\n",
    "import sqlite_utils\n",
    "import altair as alt\n",
    "import re\n",
    "from sqlalchemy import create_engine\n",
    "import json\n",
    "import os"
   ]
  },
  {
   "cell_type": "code",
   "execution_count": 3,
   "id": "b88caff7-05fc-402b-9ca9-dcb10d582feb",
   "metadata": {},
   "outputs": [],
   "source": [
    "# refresh the db if it exists ...\n",
    "try:\n",
    "    os.remove('cincy-tech-survey.db')\n",
    "except:\n",
    "    pass\n",
    "\n",
    "os.close(os.open('cincy-tech-survey.db', os.O_CREAT))\n",
    "\n",
    "engine = create_engine(\"sqlite:///cincy-tech-survey.db\")"
   ]
  },
  {
   "cell_type": "code",
   "execution_count": 4,
   "id": "460782be-f41a-4cf1-b97d-1758f9e19a23",
   "metadata": {},
   "outputs": [],
   "source": [
    "# grab the survey results as a dataframe\n",
    "df = pd.read_csv(\n",
    "    'Cincinnati Developer Survey 2017 (Responses) - Form Responses 1.csv',\n",
    "    parse_dates=True,\n",
    ")"
   ]
  },
  {
   "cell_type": "code",
   "execution_count": 5,
   "id": "594a3457-e36f-40e8-9ac8-f4f4edb323ed",
   "metadata": {},
   "outputs": [
    {
     "data": {
      "text/plain": [
       "Index(['Timestamp', 'Years of Experience', 'Size of company', 'Current Salary',\n",
       "       'How happy are you at your company?', 'Gender (Optional)',\n",
       "       'Position or Title', 'Languages / Skills',\n",
       "       'Do you work remotely or for a company in town?', 'Level of education',\n",
       "       'If you have a degree, what is it in?'],\n",
       "      dtype='object')"
      ]
     },
     "execution_count": 5,
     "metadata": {},
     "output_type": "execute_result"
    }
   ],
   "source": [
    "df.columns"
   ]
  },
  {
   "cell_type": "code",
   "execution_count": 6,
   "id": "d90bb9bf-0e9b-4f29-bb06-aefff8143fe8",
   "metadata": {},
   "outputs": [],
   "source": [
    "# normalize the column names\n",
    "df.columns = ['timestamp', 'years_exp', 'company_size', \n",
    "              'current_salary', 'happy_score', \n",
    "              'gender', 'title', 'skills',\n",
    "               'remote', 'education', 'degree']"
   ]
  },
  {
   "cell_type": "code",
   "execution_count": 7,
   "id": "f8110d66-36de-4138-a1ca-49d06a22f442",
   "metadata": {
    "tags": []
   },
   "outputs": [],
   "source": [
    "# normalize the salary into a numeric value\n",
    "# assume 2087 average work hours in a calendar year for hourly rates\n",
    "\n",
    "re_per_hour = re.compile(r\"^.*(\\/hr|\\/hour|per\\shour|\\sper\\shr|\\s\\/\\shr).*$\")\n",
    "re_eval_num = re.compile(r\"[0-9\\.]{1,}\")\n",
    "\n",
    "def salary_to_int(salary):\n",
    "    if pd.isnull(salary):\n",
    "        # return f\"no salary\"\n",
    "        return False\n",
    "    elif re_per_hour.match(salary):\n",
    "        # return f\"re_per_hour: {salary}\"\n",
    "        return eval(re_eval_num.findall(salary)[0]) * 2087\n",
    "    else:\n",
    "        # return f\"per year salary: {salary}\"\n",
    "        return eval(''.join([value for value in salary if re_eval_num.match(value)]))"
   ]
  },
  {
   "cell_type": "code",
   "execution_count": 8,
   "id": "341841c2-5813-4f00-9e5d-d4cda9766050",
   "metadata": {},
   "outputs": [],
   "source": [
    "# add the column and add the converted values\n",
    "df['salary_norm'] = df['current_salary'].apply(lambda x: salary_to_int(x))"
   ]
  },
  {
   "cell_type": "code",
   "execution_count": 9,
   "id": "65e7cbbd-5668-436c-8761-323f21f997ae",
   "metadata": {},
   "outputs": [],
   "source": [
    "df.to_sql('results_2017', con=engine)"
   ]
  },
  {
   "cell_type": "code",
   "execution_count": 10,
   "id": "a25b111c-8453-4742-ba0e-59cdee8ddcda",
   "metadata": {},
   "outputs": [],
   "source": [
    "# clean up the blank rows\n",
    "with engine.connect() as con:\n",
    "    con.execute('''\\\n",
    "        DELETE FROM\n",
    "        results_2017\n",
    "        WHERE\n",
    "        timestamp is NULL\n",
    "    ''')"
   ]
  },
  {
   "cell_type": "code",
   "execution_count": 11,
   "id": "c8bc2260-879f-4098-b802-534688a25756",
   "metadata": {},
   "outputs": [],
   "source": [
    "# grab the survey results as a dataframe\n",
    "\n",
    "# original columns\n",
    "# Index(['Timestamp', 'Years of Experience', 'Size of company', 'Current Salary',\n",
    "#        'How happy are you at your company?', 'Gender (Optional)',\n",
    "#        'Position or Title', 'Languages / Skills',\n",
    "#        'Do you work remotely or for a company in town?', 'Level of education',\n",
    "#        'If you have a degree, what is it in?'],\n",
    "#       dtype='object')\n",
    "df = pd.read_csv(\n",
    "    'Cincinnati Developer Survey 2019 (Responses) - Form Responses 1.csv',\n",
    "    parse_dates=True,\n",
    ")"
   ]
  },
  {
   "cell_type": "code",
   "execution_count": 12,
   "id": "7d30099a-9379-4121-a111-c98f3153f22d",
   "metadata": {},
   "outputs": [
    {
     "data": {
      "text/plain": [
       "Index(['Timestamp', 'Years of Experience', 'Size of company', 'Current Salary',\n",
       "       'How happy are you at your company?', 'Gender (Optional)',\n",
       "       'Position or Title', 'Languages / Skills',\n",
       "       'Do you work remotely or for a company in town?', 'Level of education',\n",
       "       'If you have a degree, what is it in?', 'Race and Ethnicity'],\n",
       "      dtype='object')"
      ]
     },
     "execution_count": 12,
     "metadata": {},
     "output_type": "execute_result"
    }
   ],
   "source": [
    "df.columns"
   ]
  },
  {
   "cell_type": "code",
   "execution_count": 13,
   "id": "8c0f9ce1-0307-4249-b7a0-64c363768d05",
   "metadata": {},
   "outputs": [],
   "source": [
    "# normalize the column names\n",
    "df.columns = ['timestamp', 'years_exp', 'company_size', \n",
    "              'current_salary', 'happy_score', \n",
    "              'gender', 'title', 'skills',\n",
    "               'remote', 'education', 'degree', 'ethnicity']"
   ]
  },
  {
   "cell_type": "code",
   "execution_count": 14,
   "id": "6cd14a3b-29e9-4a88-80c5-3d9763b123a5",
   "metadata": {},
   "outputs": [],
   "source": [
    "# add the column and add the converted values\n",
    "df['salary_norm'] = df['current_salary'].apply(lambda x: salary_to_int(x))"
   ]
  },
  {
   "cell_type": "code",
   "execution_count": 15,
   "id": "51fef0d6-f230-4a9c-8ba2-731dc01ae82d",
   "metadata": {},
   "outputs": [],
   "source": [
    "df.to_sql('results_2019', con=engine)"
   ]
  },
  {
   "cell_type": "code",
   "execution_count": 16,
   "id": "b075bc29-3873-4699-9391-39e504366eb9",
   "metadata": {},
   "outputs": [],
   "source": [
    "# clean up the blank rows\n",
    "with engine.connect() as con:\n",
    "    con.execute('''\\\n",
    "        DELETE FROM\n",
    "        results_2019\n",
    "        WHERE\n",
    "        timestamp is NULL\n",
    "    ''')"
   ]
  },
  {
   "cell_type": "code",
   "execution_count": 17,
   "id": "5dd23328-123e-47d5-9546-d851808fa734",
   "metadata": {},
   "outputs": [],
   "source": [
    "df = pd.read_csv(\n",
    "    'Cincinnati Developer Survey 2021 (Responses) - Form Responses 1.csv',\n",
    "    parse_dates=True,\n",
    ")"
   ]
  },
  {
   "cell_type": "code",
   "execution_count": 18,
   "id": "f86291ae-780f-490f-9177-518d687ac889",
   "metadata": {},
   "outputs": [
    {
     "data": {
      "text/plain": [
       "Index(['Timestamp', 'Years of Experience', 'What do you do in tech?',\n",
       "       'Size of company', 'Company Name (100% Optional)',\n",
       "       'Current Salary (If hourly calculate as yearly)',\n",
       "       'How happy are you at your company?', 'Gender (Optional)',\n",
       "       'Position or Title', 'Languages / Skills',\n",
       "       'Do you work remotely or for a company in town?', 'Level of education',\n",
       "       'If you have a degree, what is it in?'],\n",
       "      dtype='object')"
      ]
     },
     "execution_count": 18,
     "metadata": {},
     "output_type": "execute_result"
    }
   ],
   "source": [
    "df.columns"
   ]
  },
  {
   "cell_type": "code",
   "execution_count": 19,
   "id": "e813cd40-135a-4654-8ac7-1496874dd7da",
   "metadata": {},
   "outputs": [],
   "source": [
    "# normalize the column names\n",
    "df.columns = ['timestamp', 'years_exp', 'tech_interest',\n",
    "              'company_size', 'company_name',\n",
    "              'current_salary', \n",
    "              'happy_score',  'gender', \n",
    "              'title', 'skills',\n",
    "              'remote', 'education', \n",
    "              'degree', \n",
    "              ]"
   ]
  },
  {
   "cell_type": "code",
   "execution_count": 20,
   "id": "7e17a527-0c5b-47d1-951a-22d7afa47894",
   "metadata": {},
   "outputs": [],
   "source": [
    "# add the column and add the converted values\n",
    "df['salary_norm'] = df['current_salary'].apply(lambda x: salary_to_int(x))"
   ]
  },
  {
   "cell_type": "code",
   "execution_count": 21,
   "id": "5f1b678e-9e22-4086-8f70-0228d78f6fce",
   "metadata": {},
   "outputs": [],
   "source": [
    "df.to_sql('results_2021', con=engine)"
   ]
  },
  {
   "cell_type": "code",
   "execution_count": 22,
   "id": "1f5c2d39-59cc-4122-8229-b79e05b61e82",
   "metadata": {},
   "outputs": [],
   "source": [
    "# clean up the blank rows\n",
    "with engine.connect() as con:\n",
    "    con.execute('''\\\n",
    "        DELETE FROM\n",
    "        results_2021\n",
    "        WHERE\n",
    "        timestamp is NULL\n",
    "    ''')"
   ]
  },
  {
   "cell_type": "code",
   "execution_count": 23,
   "id": "168f654d-1498-42ef-9c0c-fe3c7513d1c2",
   "metadata": {},
   "outputs": [],
   "source": [
    "# create the view for all results\n",
    "sql = \"\"\"\\\n",
    "create view all_years_results_view as\n",
    "\n",
    "with all_years as (\n",
    "  select\n",
    "    years_exp,\n",
    "    company_size,\n",
    "    happy_score,\n",
    "    gender,\n",
    "    skills,\n",
    "    salary_norm,\n",
    "    remote,\n",
    "    2017 as results_year\n",
    "  from\n",
    "    results_2017\n",
    "  union all\n",
    "  select\n",
    "    years_exp,\n",
    "    company_size,\n",
    "    happy_score,\n",
    "    gender,\n",
    "    skills,\n",
    "    salary_norm,\n",
    "    remote,\n",
    "    2019 as results_year\n",
    "  from\n",
    "    results_2019\n",
    "  union all\n",
    "  select\n",
    "    years_exp,\n",
    "    company_size,\n",
    "    happy_score,\n",
    "    gender,\n",
    "    skills,\n",
    "    salary_norm,\n",
    "    remote,\n",
    "    2021 as results_year\n",
    "  from\n",
    "    results_2021\n",
    ")\n",
    "select\n",
    "  years_exp,\n",
    "    company_size,\n",
    "    happy_score,\n",
    "    gender,\n",
    "    skills,\n",
    "    salary_norm,\n",
    "    remote,\n",
    "    results_year\n",
    "from\n",
    "  all_years\n",
    "\"\"\"\n",
    "\n",
    "with engine.connect() as con:\n",
    "    con.execute(sql)"
   ]
  },
  {
   "cell_type": "code",
   "execution_count": 24,
   "id": "998dd7c8-9a78-426c-a55f-4e0538340ab0",
   "metadata": {},
   "outputs": [
    {
     "name": "stdout",
     "output_type": "stream",
     "text": [
      "results_2021_fts\n",
      "results_2019_fts\n",
      "results_2017_fts\n"
     ]
    }
   ],
   "source": [
    "# create some full text searches for title / skills on the tables\n",
    "\n",
    "utils_db = sqlite_utils.Database('cincy-tech-survey.db')\n",
    "\n",
    "utils_db[\"results_2021\"].enable_fts(['title', 'skills'])\n",
    "# just to double check if the table now has fts enabled ...\n",
    "print(utils_db[\"results_2021\"].detect_fts())\n",
    "\n",
    "utils_db[\"results_2019\"].enable_fts(['title', 'skills'])\n",
    "# just to double check if the table now has fts enabled ...\n",
    "print(utils_db[\"results_2019\"].detect_fts())\n",
    "\n",
    "utils_db[\"results_2017\"].enable_fts(['title', 'skills'])\n",
    "# just to double check if the table now has fts enabled ...\n",
    "print(utils_db[\"results_2017\"].detect_fts())\n",
    "\n",
    "#  enable_fts() is supported on tables but not on views\n",
    "# utils_db[\"all_years_results_view\"].enable_fts(['title', 'skills'])\n",
    "# print(utils_db[\"results_2017\"].detect_fts())"
   ]
  },
  {
   "cell_type": "code",
   "execution_count": 25,
   "id": "9b2a9d58-f2ec-419f-b202-c4d286cb0682",
   "metadata": {},
   "outputs": [],
   "source": [
    "# produce some settings for Datasette\n",
    "startup = '''\\\n",
    "datasette \\\n",
    "    cincy-tech-survey.db \\\n",
    "    --setting allow_facet on \\\n",
    "    --setting suggest_facets on \\\n",
    "    --setting allow_facet true \\\n",
    "    --metadata=metadata.json \\\n",
    "    --static static:static/ \\\n",
    "    --port 8010\n",
    "'''\n"
   ]
  },
  {
   "cell_type": "code",
   "execution_count": 26,
   "id": "2f9b462c-7da7-4906-a23f-b0f8405c4f49",
   "metadata": {},
   "outputs": [],
   "source": [
    "description_html = \"\"\"\\\n",
    "<p>\n",
    "    Results from Cincy Tech Slack Developer Survey Years: \n",
    "    <span style=\"color:#54AC8E;\">\n",
    "    <a href=\"./cincy-tech-survey/results_2021\">2021</a>, \n",
    "    <a href=\"./cincy-tech-survey/results_2019\">2019</a>, \n",
    "    <a href=\"./cincy-tech-survey/results_2017\">2017</a>\n",
    "</p>\n",
    "\n",
    "<p>\n",
    "    Check out some cool data visualizations generated from this dataset:\n",
    "    <ul>\n",
    "        <li>\n",
    "            <a href=\"./static/CincyTechSurveyHappinessbyRemoteStatus.html\">Happiness By Remote Status</a>\n",
    "        </li>\n",
    "        <li>\n",
    "            <a href=\"./static/CincyTechSurveyHappinessbyYearsExperience.html\">Happiness By Years Experience</a>\n",
    "        </li>\n",
    "        <li>\n",
    "            <a href=\"./static/CincyTechSurveySalaryRangeByYearsExp.html\">Salary Range By Years Experience</a>\n",
    "        </li>\n",
    "    </ul>\n",
    "</p>\n",
    "<br />\n",
    "\n",
    "\n",
    "\"\"\"\n",
    "\n",
    "all_years_results_sql = \"\"\"\\\n",
    "with all_years as (\n",
    "  select\n",
    "    years_exp,\n",
    "    company_size,\n",
    "    happy_score,\n",
    "    gender,\n",
    "    skills,\n",
    "    salary_norm,\n",
    "    2017 as results_year\n",
    "  from\n",
    "    results_2017\n",
    "  union all\n",
    "  select\n",
    "    years_exp,\n",
    "    company_size,\n",
    "    happy_score,\n",
    "    gender,\n",
    "    skills,\n",
    "    salary_norm,\n",
    "    2019 as results_year\n",
    "  from\n",
    "    results_2019\n",
    "  union all\n",
    "  select\n",
    "    years_exp,\n",
    "    company_size,\n",
    "    happy_score,\n",
    "    gender,\n",
    "    skills,\n",
    "    salary_norm,\n",
    "    2021 as results_year\n",
    "  from\n",
    "    results_2021\n",
    ")\n",
    "select\n",
    "  *\n",
    "from\n",
    "  all_years\n",
    "\"\"\"\n",
    "\n",
    "json_metadata = {\n",
    "    'title': 'Cincy Tech Slack - Dev Survey',\n",
    "    'description_html': description_html,\n",
    "    'extra_css_urls': ['/static/my.css', ],\n",
    "    'databases': {\n",
    "        'cincy-tech-survey': {\n",
    "            'queries': {\n",
    "                'all_years_results': {\n",
    "                    'sql':  all_years_results_sql,\n",
    "                    'title': 'Use this query to get results of all years'\n",
    "                }\n",
    "            }\n",
    "        }\n",
    "    }\n",
    "}\n",
    "\n",
    "with open('metadata.json', 'w') as f:\n",
    "    f.write(json.dumps(json_metadata))"
   ]
  }
 ],
 "metadata": {
  "kernelspec": {
   "display_name": "Python 3",
   "language": "python",
   "name": "python3"
  },
  "language_info": {
   "codemirror_mode": {
    "name": "ipython",
    "version": 3
   },
   "file_extension": ".py",
   "mimetype": "text/x-python",
   "name": "python",
   "nbconvert_exporter": "python",
   "pygments_lexer": "ipython3",
   "version": "3.9.5"
  }
 },
 "nbformat": 4,
 "nbformat_minor": 5
}
